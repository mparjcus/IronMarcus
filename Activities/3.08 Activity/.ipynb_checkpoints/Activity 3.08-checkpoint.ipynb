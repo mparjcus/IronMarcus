{
 "cells": [
  {
   "cell_type": "code",
   "execution_count": 1,
   "metadata": {},
   "outputs": [
    {
     "name": "stdout",
     "output_type": "stream",
     "text": [
      "········\n"
     ]
    }
   ],
   "source": [
    "import pymysql\n",
    "from sqlalchemy import create_engine\n",
    "import pandas as pd\n",
    "import getpass  # To get the password without showing the input\n",
    "password = getpass.getpass()"
   ]
  },
  {
   "cell_type": "code",
   "execution_count": 2,
   "metadata": {},
   "outputs": [],
   "source": [
    "connection_string = 'mysql+pymysql://root:' + password + '@localhost/bank'"
   ]
  },
  {
   "cell_type": "code",
   "execution_count": 3,
   "metadata": {},
   "outputs": [],
   "source": [
    "data = pd.read_sql_query('SELECT * FROM loan', connection_string)"
   ]
  },
  {
   "cell_type": "code",
   "execution_count": 4,
   "metadata": {},
   "outputs": [
    {
     "data": {
      "text/html": [
       "<div>\n",
       "<style scoped>\n",
       "    .dataframe tbody tr th:only-of-type {\n",
       "        vertical-align: middle;\n",
       "    }\n",
       "\n",
       "    .dataframe tbody tr th {\n",
       "        vertical-align: top;\n",
       "    }\n",
       "\n",
       "    .dataframe thead th {\n",
       "        text-align: right;\n",
       "    }\n",
       "</style>\n",
       "<table border=\"1\" class=\"dataframe\">\n",
       "  <thead>\n",
       "    <tr style=\"text-align: right;\">\n",
       "      <th></th>\n",
       "      <th>loan_id</th>\n",
       "      <th>account_id</th>\n",
       "      <th>date</th>\n",
       "      <th>amount</th>\n",
       "      <th>duration</th>\n",
       "      <th>payments</th>\n",
       "      <th>status</th>\n",
       "      <th>loan_description</th>\n",
       "    </tr>\n",
       "  </thead>\n",
       "  <tbody>\n",
       "    <tr>\n",
       "      <th>0</th>\n",
       "      <td>5314.0</td>\n",
       "      <td>1787.0</td>\n",
       "      <td>930705.0</td>\n",
       "      <td>96396.0</td>\n",
       "      <td>12.0</td>\n",
       "      <td>8033.0</td>\n",
       "      <td>B</td>\n",
       "      <td>Defaulter - Contract Finished</td>\n",
       "    </tr>\n",
       "    <tr>\n",
       "      <th>1</th>\n",
       "      <td>5316.0</td>\n",
       "      <td>1801.0</td>\n",
       "      <td>930711.0</td>\n",
       "      <td>165960.0</td>\n",
       "      <td>36.0</td>\n",
       "      <td>4610.0</td>\n",
       "      <td>A</td>\n",
       "      <td>Good - Contract Finished</td>\n",
       "    </tr>\n",
       "    <tr>\n",
       "      <th>2</th>\n",
       "      <td>6863.0</td>\n",
       "      <td>9188.0</td>\n",
       "      <td>930728.0</td>\n",
       "      <td>127080.0</td>\n",
       "      <td>60.0</td>\n",
       "      <td>2118.0</td>\n",
       "      <td>A</td>\n",
       "      <td>Good - Contract Finished</td>\n",
       "    </tr>\n",
       "    <tr>\n",
       "      <th>3</th>\n",
       "      <td>5325.0</td>\n",
       "      <td>1843.0</td>\n",
       "      <td>930803.0</td>\n",
       "      <td>105804.0</td>\n",
       "      <td>36.0</td>\n",
       "      <td>2939.0</td>\n",
       "      <td>A</td>\n",
       "      <td>Good - Contract Finished</td>\n",
       "    </tr>\n",
       "    <tr>\n",
       "      <th>4</th>\n",
       "      <td>7240.0</td>\n",
       "      <td>11013.0</td>\n",
       "      <td>930906.0</td>\n",
       "      <td>274740.0</td>\n",
       "      <td>60.0</td>\n",
       "      <td>4579.0</td>\n",
       "      <td>A</td>\n",
       "      <td>Good - Contract Finished</td>\n",
       "    </tr>\n",
       "  </tbody>\n",
       "</table>\n",
       "</div>"
      ],
      "text/plain": [
       "   loan_id  account_id      date    amount  duration  payments status  \\\n",
       "0   5314.0      1787.0  930705.0   96396.0      12.0    8033.0      B   \n",
       "1   5316.0      1801.0  930711.0  165960.0      36.0    4610.0      A   \n",
       "2   6863.0      9188.0  930728.0  127080.0      60.0    2118.0      A   \n",
       "3   5325.0      1843.0  930803.0  105804.0      36.0    2939.0      A   \n",
       "4   7240.0     11013.0  930906.0  274740.0      60.0    4579.0      A   \n",
       "\n",
       "                loan_description  \n",
       "0  Defaulter - Contract Finished  \n",
       "1       Good - Contract Finished  \n",
       "2       Good - Contract Finished  \n",
       "3       Good - Contract Finished  \n",
       "4       Good - Contract Finished  "
      ]
     },
     "execution_count": 4,
     "metadata": {},
     "output_type": "execute_result"
    }
   ],
   "source": [
    "data.head()"
   ]
  },
  {
   "cell_type": "code",
   "execution_count": 5,
   "metadata": {},
   "outputs": [],
   "source": [
    "district_table = pd.read_sql_table('district', connection_string)"
   ]
  },
  {
   "cell_type": "code",
   "execution_count": null,
   "metadata": {},
   "outputs": [],
   "source": []
  }
 ],
 "metadata": {
  "kernelspec": {
   "display_name": "Python 3",
   "language": "python",
   "name": "python3"
  },
  "language_info": {
   "codemirror_mode": {
    "name": "ipython",
    "version": 3
   },
   "file_extension": ".py",
   "mimetype": "text/x-python",
   "name": "python",
   "nbconvert_exporter": "python",
   "pygments_lexer": "ipython3",
   "version": "3.8.5"
  }
 },
 "nbformat": 4,
 "nbformat_minor": 4
}
